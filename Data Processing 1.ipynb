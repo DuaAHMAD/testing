{
 "cells": [
  {
   "cell_type": "markdown",
   "metadata": {},
   "source": [
    "# Preparing The data set: (only works in windows)"
   ]
  },
  {
   "cell_type": "markdown",
   "metadata": {},
   "source": [
    "## Step 1: Copying Images to training, validation, and test directories.\n",
    "### Directories to extract and save; training, validation and test data. "
   ]
  },
  {
   "cell_type": "code",
   "execution_count": 3,
   "metadata": {},
   "outputs": [],
   "source": [
    "import os, shutil\n",
    "# Path to the directory where the original dataset was uncompressed\n",
    "original_dataset_dir = '/data2/Datasets/AV/BDI/Temp_from_ext_HDD/OLD60AlignedFaces/'\n",
    "# Creating directory where you’ll store your smaller dataset\n",
    "base_dir = '/data1/Code/Duaa/Relocated_Data2_small/'\n",
    "os.mkdir(base_dir)\n",
    "\n",
    "# Set directories for:\n",
    "\n",
    "# Training data\n",
    "train_dir = os.path.join(base_dir, 'Train') #Main trainin data directory\n",
    "os.mkdir(train_dir)\n",
    "train_Control_dir = os.path.join(train_dir, 'Controls') #Directory with training Controls pictures\n",
    "os.mkdir(train_Control_dir)\n",
    "train_Patient_dir = os.path.join(train_dir, 'Patients') #Directory with training Patients pictures\n",
    "os.mkdir(train_Patient_dir)\n",
    "\n",
    "# Validation data\n",
    "validation_dir = os.path.join(base_dir, 'Validation') #Main validation data directory\n",
    "os.mkdir(validation_dir)\n",
    "validation_Control_dir = os.path.join(validation_dir, 'Controls') #Directory with validation Controls pictures\n",
    "os.mkdir(validation_Control_dir)\n",
    "validation_Patient_dir = os.path.join(validation_dir, 'Patients') #Directory with validation Patients pictures\n",
    "os.mkdir(validation_Patient_dir)\n",
    "\n",
    "# Test data\n",
    "test_dir = os.path.join(base_dir, 'Test')#Main test data directory\n",
    "os.mkdir(test_dir)\n",
    "test_Control_dir = os.path.join(test_dir, 'Controls') #Directory with test Controls pictures\n",
    "os.mkdir(test_Control_dir)\n",
    "test_Patient_dir = os.path.join(test_dir, 'Patients') #Directory with test Patients pictures\n",
    "os.mkdir(test_Patient_dir)"
   ]
  },
  {
   "cell_type": "code",
   "execution_count": 4,
   "metadata": {},
   "outputs": [
    {
     "ename": "IsADirectoryError",
     "evalue": "[Errno 21] Is a directory: '/data2/Datasets/AV/BDI/Temp_from_ext_HDD/OLD60AlignedFaces/Controls/Co_ViHa_NOMS044/Co_AlCh_NOMS076'",
     "output_type": "error",
     "traceback": [
      "\u001b[0;31m---------------------------------------------------------------------------\u001b[0m",
      "\u001b[0;31mIsADirectoryError\u001b[0m                         Traceback (most recent call last)",
      "\u001b[0;32m<ipython-input-4-48ede57e81cc>\u001b[0m in \u001b[0;36m<module>\u001b[0;34m()\u001b[0m\n\u001b[1;32m     23\u001b[0m         \u001b[0;31m#copy the files to the new destination\u001b[0m\u001b[0;34m\u001b[0m\u001b[0;34m\u001b[0m\u001b[0m\n\u001b[1;32m     24\u001b[0m         \u001b[0;32mfor\u001b[0m \u001b[0mj\u001b[0m \u001b[0;32min\u001b[0m \u001b[0mfilenames\u001b[0m\u001b[0;34m:\u001b[0m\u001b[0;34m\u001b[0m\u001b[0m\n\u001b[0;32m---> 25\u001b[0;31m             \u001b[0mshutil\u001b[0m\u001b[0;34m.\u001b[0m\u001b[0mcopy2\u001b[0m\u001b[0;34m(\u001b[0m\u001b[0msource_dir_C\u001b[0m \u001b[0;34m+\u001b[0m \u001b[0;34m\"%s/\"\u001b[0m \u001b[0;34m%\u001b[0m \u001b[0mi\u001b[0m  \u001b[0;34m+\u001b[0m \u001b[0mj\u001b[0m\u001b[0;34m,\u001b[0m \u001b[0mpath\u001b[0m\u001b[0;34m)\u001b[0m\u001b[0;34m\u001b[0m\u001b[0m\n\u001b[0m\u001b[1;32m     26\u001b[0m \u001b[0;34m\u001b[0m\u001b[0m\n\u001b[1;32m     27\u001b[0m \u001b[0;31m# to validate directory\u001b[0m\u001b[0;34m\u001b[0m\u001b[0;34m\u001b[0m\u001b[0m\n",
      "\u001b[0;32m~/anaconda3/lib/python3.6/shutil.py\u001b[0m in \u001b[0;36mcopy2\u001b[0;34m(src, dst, follow_symlinks)\u001b[0m\n\u001b[1;32m    255\u001b[0m     \u001b[0;32mif\u001b[0m \u001b[0mos\u001b[0m\u001b[0;34m.\u001b[0m\u001b[0mpath\u001b[0m\u001b[0;34m.\u001b[0m\u001b[0misdir\u001b[0m\u001b[0;34m(\u001b[0m\u001b[0mdst\u001b[0m\u001b[0;34m)\u001b[0m\u001b[0;34m:\u001b[0m\u001b[0;34m\u001b[0m\u001b[0m\n\u001b[1;32m    256\u001b[0m         \u001b[0mdst\u001b[0m \u001b[0;34m=\u001b[0m \u001b[0mos\u001b[0m\u001b[0;34m.\u001b[0m\u001b[0mpath\u001b[0m\u001b[0;34m.\u001b[0m\u001b[0mjoin\u001b[0m\u001b[0;34m(\u001b[0m\u001b[0mdst\u001b[0m\u001b[0;34m,\u001b[0m \u001b[0mos\u001b[0m\u001b[0;34m.\u001b[0m\u001b[0mpath\u001b[0m\u001b[0;34m.\u001b[0m\u001b[0mbasename\u001b[0m\u001b[0;34m(\u001b[0m\u001b[0msrc\u001b[0m\u001b[0;34m)\u001b[0m\u001b[0;34m)\u001b[0m\u001b[0;34m\u001b[0m\u001b[0m\n\u001b[0;32m--> 257\u001b[0;31m     \u001b[0mcopyfile\u001b[0m\u001b[0;34m(\u001b[0m\u001b[0msrc\u001b[0m\u001b[0;34m,\u001b[0m \u001b[0mdst\u001b[0m\u001b[0;34m,\u001b[0m \u001b[0mfollow_symlinks\u001b[0m\u001b[0;34m=\u001b[0m\u001b[0mfollow_symlinks\u001b[0m\u001b[0;34m)\u001b[0m\u001b[0;34m\u001b[0m\u001b[0m\n\u001b[0m\u001b[1;32m    258\u001b[0m     \u001b[0mcopystat\u001b[0m\u001b[0;34m(\u001b[0m\u001b[0msrc\u001b[0m\u001b[0;34m,\u001b[0m \u001b[0mdst\u001b[0m\u001b[0;34m,\u001b[0m \u001b[0mfollow_symlinks\u001b[0m\u001b[0;34m=\u001b[0m\u001b[0mfollow_symlinks\u001b[0m\u001b[0;34m)\u001b[0m\u001b[0;34m\u001b[0m\u001b[0m\n\u001b[1;32m    259\u001b[0m     \u001b[0;32mreturn\u001b[0m \u001b[0mdst\u001b[0m\u001b[0;34m\u001b[0m\u001b[0m\n",
      "\u001b[0;32m~/anaconda3/lib/python3.6/shutil.py\u001b[0m in \u001b[0;36mcopyfile\u001b[0;34m(src, dst, follow_symlinks)\u001b[0m\n\u001b[1;32m    118\u001b[0m         \u001b[0mos\u001b[0m\u001b[0;34m.\u001b[0m\u001b[0msymlink\u001b[0m\u001b[0;34m(\u001b[0m\u001b[0mos\u001b[0m\u001b[0;34m.\u001b[0m\u001b[0mreadlink\u001b[0m\u001b[0;34m(\u001b[0m\u001b[0msrc\u001b[0m\u001b[0;34m)\u001b[0m\u001b[0;34m,\u001b[0m \u001b[0mdst\u001b[0m\u001b[0;34m)\u001b[0m\u001b[0;34m\u001b[0m\u001b[0m\n\u001b[1;32m    119\u001b[0m     \u001b[0;32melse\u001b[0m\u001b[0;34m:\u001b[0m\u001b[0;34m\u001b[0m\u001b[0m\n\u001b[0;32m--> 120\u001b[0;31m         \u001b[0;32mwith\u001b[0m \u001b[0mopen\u001b[0m\u001b[0;34m(\u001b[0m\u001b[0msrc\u001b[0m\u001b[0;34m,\u001b[0m \u001b[0;34m'rb'\u001b[0m\u001b[0;34m)\u001b[0m \u001b[0;32mas\u001b[0m \u001b[0mfsrc\u001b[0m\u001b[0;34m:\u001b[0m\u001b[0;34m\u001b[0m\u001b[0m\n\u001b[0m\u001b[1;32m    121\u001b[0m             \u001b[0;32mwith\u001b[0m \u001b[0mopen\u001b[0m\u001b[0;34m(\u001b[0m\u001b[0mdst\u001b[0m\u001b[0;34m,\u001b[0m \u001b[0;34m'wb'\u001b[0m\u001b[0;34m)\u001b[0m \u001b[0;32mas\u001b[0m \u001b[0mfdst\u001b[0m\u001b[0;34m:\u001b[0m\u001b[0;34m\u001b[0m\u001b[0m\n\u001b[1;32m    122\u001b[0m                 \u001b[0mcopyfileobj\u001b[0m\u001b[0;34m(\u001b[0m\u001b[0mfsrc\u001b[0m\u001b[0;34m,\u001b[0m \u001b[0mfdst\u001b[0m\u001b[0;34m)\u001b[0m\u001b[0;34m\u001b[0m\u001b[0m\n",
      "\u001b[0;31mIsADirectoryError\u001b[0m: [Errno 21] Is a directory: '/data2/Datasets/AV/BDI/Temp_from_ext_HDD/OLD60AlignedFaces/Controls/Co_ViHa_NOMS044/Co_AlCh_NOMS076'"
     ]
    }
   ],
   "source": [
    "import os, sys\n",
    "import shutil\n",
    "import random\n",
    "from shutil import copyfile\n",
    "\n",
    "#Relocate original data to its relevant folder\n",
    "\n",
    "#Control IMAGES:\n",
    "#folder which contains the sub directories\n",
    "source_dir_C = '/data2/Datasets/AV/BDI/Temp_from_ext_HDD/OLD60AlignedFaces/Controls/'\n",
    "destination_dir_C = '/data1/Code/Duaa/Relocated_Data2_small/Train/Controls/'\n",
    "n= 3000;\n",
    "#list sub directories \n",
    "for root, dirs, files in os.walk(source_dir_C):\n",
    "\n",
    "    #iterate through them\n",
    "    for i in dirs: \n",
    "        #create a new folder with the name of the iterated sub dir\n",
    "        path = destination_dir_C + \"%s/\" % i\n",
    "        os.makedirs(path)\n",
    "        #take random sample, here # files per sub dir \n",
    "        filenames = random.sample(os.listdir(source_dir_C + \"%s/\" % i ), n)\n",
    "        #copy the files to the new destination\n",
    "        for j in filenames:\n",
    "            shutil.copy2(source_dir_C + \"%s/\" % i  + j, path)\n",
    "            \n",
    "# to validate directory\n",
    "#Copies the next # Control images to validation_dir (done manully for now)\n",
    "\n",
    "# to test directory\n",
    "#Copies the next # Control images to test_dir (done manully for now)\n",
    "\n",
    "#Patient Images\n",
    "\n",
    "#folder which contains the sub directories\n",
    "source_dir_P = '/data2/Datasets/AV/BDI/Temp_from_ext_HDD/OLD60AlignedFaces/Patients/'\n",
    "destination_dir_P = '/data1/Code/Duaa/Relocated_Data2_small/Train/Patients/'\n",
    "#list sub directories \n",
    "for root, dirs, files in os.walk(source_dir_P):\n",
    "\n",
    "    #iterate through them\n",
    "    for i in dirs: \n",
    "        #create a new folder with the name of the iterated sub dir\n",
    "        path = destination_dir_P + \"%s/\" % i\n",
    "        os.makedirs(path)\n",
    "        #take random sample, here # files per sub dir \n",
    "        filenames = random.sample(os.listdir(source_dir_P + \"%s/\" % i ), n)\n",
    "        #copy the files to the new destination\n",
    "        for j in filenames:\n",
    "            shutil.copy2(source_dir_P + \"%s/\" % i  + j, path)\n",
    "\n",
    "\n"
   ]
  },
  {
   "cell_type": "markdown",
   "metadata": {},
   "source": [
    "#Patient IMAGES:\n",
    "\n",
    "# to train directory\n",
    "#Copies the # images from each Patient into the to Train_dir\n",
    "source_dir_P = '/data2/Datasets/AV/BDI/Temp_from_ext_HDD/OLD60AlignedFaces/Patients/'\n",
    "destination_dir_P = '/data1/Code/Duaa/Relocated_Data/Train/Patients/'\n",
    "from distutils.dir_util import copy_tree\n",
    "copy_tree(source_dir_P, destination_dir_P)\n",
    "# to validate directory\n",
    "#Copies the next # Patient images to validation_dir (done manully for now)\n",
    "\n",
    "# to test directory\n",
    "#Copies the next # Patient images to test_dir (done manully for now)"
   ]
  },
  {
   "cell_type": "markdown",
   "metadata": {},
   "source": [
    "#to move folders using linux use: mv /data1/Code/Duaa/Relocated_Data/Train/Controls/Co_RoDu_021209/  /data1/Code/Duaa/Relocated_Data/Test/Controls\n",
    " "
   ]
  },
  {
   "cell_type": "code",
   "execution_count": null,
   "metadata": {
    "collapsed": true
   },
   "outputs": [],
   "source": [
    "\n",
    "\n",
    "#Relocate original data to its relevant folder\n",
    "\n",
    "#Control IMAGES:\n",
    "#folder which contains the sub directories\n",
    "source_dir_C = '/data2/Datasets/AV/BDI/Temp_from_ext_HDD/OLD60AlignedFaces/Controls/'\n",
    "destination_dir_C = '/data1/Code/Duaa/Relocated_Data/Train/Controls/'\n",
    "\n",
    "from distutils.dir_util import copy_tree\n",
    "copy_tree(source_dir_C, destination_dir_C)\n",
    "            \n",
    "# to validate directory\n",
    "#Copies the next # Control images to validation_dir (done manully for now)\n",
    "\n",
    "# to test directory\n",
    "#Copies the next # Control images to test_dir (done manully for now)"
   ]
  }
 ],
 "metadata": {
  "kernelspec": {
   "display_name": "Python 3",
   "language": "python",
   "name": "python3"
  },
  "language_info": {
   "codemirror_mode": {
    "name": "ipython",
    "version": 3
   },
   "file_extension": ".py",
   "mimetype": "text/x-python",
   "name": "python",
   "nbconvert_exporter": "python",
   "pygments_lexer": "ipython3",
   "version": "3.6.5"
  }
 },
 "nbformat": 4,
 "nbformat_minor": 2
}
