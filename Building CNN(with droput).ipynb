{
 "cells": [
  {
   "cell_type": "markdown",
   "metadata": {},
   "source": [
    "# Building Network + Data processing :)\n"
   ]
  },
  {
   "cell_type": "markdown",
   "metadata": {},
   "source": [
    "## Step 2: Building a Model\n",
    "### Instantiating a small covnet for controls vs patients - with dropout"
   ]
  },
  {
   "cell_type": "code",
   "execution_count": 2,
   "metadata": {},
   "outputs": [
    {
     "name": "stderr",
     "output_type": "stream",
     "text": [
      "C:\\Users\\s436255\\AppData\\Local\\Continuum\\anaconda3\\lib\\site-packages\\h5py\\__init__.py:36: FutureWarning: Conversion of the second argument of issubdtype from `float` to `np.floating` is deprecated. In future, it will be treated as `np.float64 == np.dtype(float).type`.\n",
      "  from ._conv import register_converters as _register_converters\n",
      "Using TensorFlow backend.\n"
     ]
    }
   ],
   "source": [
    "from keras import layers\n",
    "from keras import models\n",
    "model = models.Sequential()\n",
    "model.add(layers.Conv2D(32, (3, 3), activation='relu',input_shape=(90, 80, 3)))\n",
    "model.add(layers.MaxPooling2D((2, 2)))\n",
    "model.add(layers.Conv2D(64, (3, 3), activation='relu'))\n",
    "model.add(layers.MaxPooling2D((2, 2)))\n",
    "model.add(layers.Conv2D(128, (3, 3), activation='relu'))\n",
    "model.add(layers.MaxPooling2D((2, 2)))\n",
    "model.add(layers.Conv2D(128, (3, 3), activation='relu'))\n",
    "model.add(layers.MaxPooling2D((2, 2)))\n",
    "model.add(layers.Flatten())\n",
    "model.add(layers.Dropout(0.5)) \n",
    "model.add(layers.Dense(512, activation='relu'))\n",
    "model.add(layers.Dense(1, activation='sigmoid'))    "
   ]
  },
  {
   "cell_type": "code",
   "execution_count": 3,
   "metadata": {},
   "outputs": [
    {
     "name": "stdout",
     "output_type": "stream",
     "text": [
      "_________________________________________________________________\n",
      "Layer (type)                 Output Shape              Param #   \n",
      "=================================================================\n",
      "conv2d_1 (Conv2D)            (None, 88, 78, 32)        896       \n",
      "_________________________________________________________________\n",
      "max_pooling2d_1 (MaxPooling2 (None, 44, 39, 32)        0         \n",
      "_________________________________________________________________\n",
      "conv2d_2 (Conv2D)            (None, 42, 37, 64)        18496     \n",
      "_________________________________________________________________\n",
      "max_pooling2d_2 (MaxPooling2 (None, 21, 18, 64)        0         \n",
      "_________________________________________________________________\n",
      "conv2d_3 (Conv2D)            (None, 19, 16, 128)       73856     \n",
      "_________________________________________________________________\n",
      "max_pooling2d_3 (MaxPooling2 (None, 9, 8, 128)         0         \n",
      "_________________________________________________________________\n",
      "conv2d_4 (Conv2D)            (None, 7, 6, 128)         147584    \n",
      "_________________________________________________________________\n",
      "max_pooling2d_4 (MaxPooling2 (None, 3, 3, 128)         0         \n",
      "_________________________________________________________________\n",
      "flatten_1 (Flatten)          (None, 1152)              0         \n",
      "_________________________________________________________________\n",
      "dropout_1 (Dropout)          (None, 1152)              0         \n",
      "_________________________________________________________________\n",
      "dense_1 (Dense)              (None, 512)               590336    \n",
      "_________________________________________________________________\n",
      "dense_2 (Dense)              (None, 1)                 513       \n",
      "=================================================================\n",
      "Total params: 831,681\n",
      "Trainable params: 831,681\n",
      "Non-trainable params: 0\n",
      "_________________________________________________________________\n"
     ]
    }
   ],
   "source": [
    "model.summary()"
   ]
  },
  {
   "cell_type": "markdown",
   "metadata": {},
   "source": [
    "### Configuring model for training"
   ]
  },
  {
   "cell_type": "code",
   "execution_count": 4,
   "metadata": {},
   "outputs": [],
   "source": [
    "from keras import optimizers \n",
    "model.compile(loss='binary_crossentropy',\n",
    "              optimizer=optimizers.RMSprop(lr=1e-4),\n",
    "              metrics=['acc'])"
   ]
  },
  {
   "cell_type": "markdown",
   "metadata": {},
   "source": [
    "## Step 3: Data preprocessing "
   ]
  },
  {
   "cell_type": "markdown",
   "metadata": {},
   "source": [
    "### - Rescale the pixel values (between 0 and 255) to the [0, 1] interval (as you know, neural networks prefer to deal with small input values)"
   ]
  },
  {
   "cell_type": "code",
   "execution_count": null,
   "metadata": {},
   "outputs": [
    {
     "name": "stdout",
     "output_type": "stream",
     "text": [
      "Found 428247 images belonging to 2 classes.\n",
      "Found 148345 images belonging to 2 classes.\n",
      "data batch shape: (32, 90, 80, 3)\n",
      "labels batch shape: (32,)\n"
     ]
    }
   ],
   "source": [
    "from keras.preprocessing.image import ImageDataGenerator\n",
    "\n",
    "train_dir= '/Users/s436255/Downloads/Controls_vs_Patients/Relocated_Data/Train/'\n",
    "validation_dir= '/Users/s436255/Downloads/Controls_vs_Patients/Relocated_Data/Validation/'\n",
    "\n",
    "#Rescales all images by 1/255\n",
    "train_datagen = ImageDataGenerator(rescale=1./255)\n",
    "test_datagen = ImageDataGenerator(rescale=1./255)\n",
    "\n",
    "train_generator = train_datagen.flow_from_directory(\n",
    "         train_dir,                 #Target directory\n",
    "         target_size = (90, 80),    \n",
    "         batch_size = 32,\n",
    "         class_mode = 'binary')     #Because you use binary_crossentropy loss, you need binary labels.\n",
    "validation_generator = test_datagen.flow_from_directory(\n",
    "         validation_dir,            #Target directory\n",
    "         target_size =(90, 80),     \n",
    "         batch_size = 32,           #Because you use binary_crossentropy loss, you need binary labels.  \n",
    "         class_mode = 'binary')\n",
    "\n",
    "# Break loop at some point to stop from having batches run indefinitely\n",
    "for data_batch, labels_batch in train_generator:\n",
    "    print('data batch shape:', data_batch.shape)\n",
    "    print('labels batch shape:', labels_batch.shape)\n",
    "    break"
   ]
  },
  {
   "cell_type": "markdown",
   "metadata": {},
   "source": [
    "#### Fitting the model using a batch generator"
   ]
  },
  {
   "cell_type": "code",
   "execution_count": null,
   "metadata": {},
   "outputs": [
    {
     "name": "stdout",
     "output_type": "stream",
     "text": [
      "Epoch 1/20\n",
      "13383/13383 [==============================] - 5979s 447ms/step - loss: 0.0062 - acc: 0.9984 - val_loss: 3.0706 - val_acc: 0.6303\n",
      "Epoch 2/20\n",
      "13383/13383 [==============================] - 6262s 468ms/step - loss: 0.0058 - acc: 0.9987 - val_loss: 2.5180 - val_acc: 0.7309\n",
      "Epoch 3/20\n",
      "13383/13383 [==============================] - 5697s 426ms/step - loss: 0.0062 - acc: 0.9987 - val_loss: 3.1788 - val_acc: 0.6891\n",
      "Epoch 4/20\n",
      "13383/13383 [==============================] - 6596s 493ms/step - loss: 0.0064 - acc: 0.9987 - val_loss: 2.7836 - val_acc: 0.6907\n",
      "Epoch 5/20\n",
      "13383/13383 [==============================] - 6787s 507ms/step - loss: 0.0069 - acc: 0.9987 - val_loss: 3.6698 - val_acc: 0.6541\n",
      "Epoch 6/20\n",
      "13383/13383 [==============================] - 6789s 507ms/step - loss: 0.0069 - acc: 0.9988 - val_loss: 4.3357 - val_acc: 0.6609\n",
      "Epoch 7/20\n",
      "13383/13383 [==============================] - 6583s 492ms/step - loss: 0.0070 - acc: 0.9989 - val_loss: 3.9495 - val_acc: 0.7204\n",
      "Epoch 8/20\n",
      "13383/13383 [==============================] - 6371s 476ms/step - loss: 0.0076 - acc: 0.9988 - val_loss: 3.3826 - val_acc: 0.7100\n",
      "Epoch 9/20\n",
      "13383/13383 [==============================] - 5938s 444ms/step - loss: 0.0077 - acc: 0.9989 - val_loss: 3.7565 - val_acc: 0.7024\n",
      "Epoch 10/20\n",
      "13383/13383 [==============================] - 5938s 444ms/step - loss: 0.0073 - acc: 0.9988 - val_loss: 4.3221 - val_acc: 0.6321\n",
      "Epoch 11/20\n",
      " 3701/13383 [=======>......................] - ETA: 49:50 - loss: 0.0069 - acc: 0.9990"
     ]
    }
   ],
   "source": [
    "history = model.fit_generator(\n",
    "train_generator,\n",
    "steps_per_epoch=13383,\n",
    "epochs=20,\n",
    "validation_data=validation_generator,\n",
    "validation_steps=4636)"
   ]
  },
  {
   "cell_type": "markdown",
   "metadata": {},
   "source": [
    "#### Saving the model"
   ]
  },
  {
   "cell_type": "code",
   "execution_count": null,
   "metadata": {},
   "outputs": [],
   "source": [
    "model.save('Controls_and_Patients_(droput)_1.h5')"
   ]
  },
  {
   "cell_type": "code",
   "execution_count": null,
   "metadata": {},
   "outputs": [],
   "source": [
    "import matplotlib.pyplot as plt\n",
    "acc = history.history['acc']\n",
    "val_acc = history.history['val_acc']\n",
    "loss = history.history['loss']\n",
    "val_loss = history.history['val_loss']\n",
    "epochs = range(1, len(acc) + 1)\n",
    "plt.plot(epochs, acc, 'bo', label='Training acc')\n",
    "plt.plot(epochs, val_acc, 'b', label='Validation acc')\n",
    "plt.title('Training and validation accuracy')\n",
    "plt.legend()\n",
    "plt.figure()\n",
    "plt.plot(epochs, loss, 'bo', label='Training loss')\n",
    "plt.plot(epochs, val_loss, 'b', label='Validation loss')\n",
    "plt.title('Training and validation loss')\n",
    "plt.legend()\n",
    "plt.show()"
   ]
  },
  {
   "cell_type": "code",
   "execution_count": null,
   "metadata": {},
   "outputs": [],
   "source": []
  },
  {
   "cell_type": "code",
   "execution_count": null,
   "metadata": {},
   "outputs": [],
   "source": []
  }
 ],
 "metadata": {
  "kernelspec": {
   "display_name": "Python 3",
   "language": "python",
   "name": "python3"
  },
  "language_info": {
   "codemirror_mode": {
    "name": "ipython",
    "version": 3
   },
   "file_extension": ".py",
   "mimetype": "text/x-python",
   "name": "python",
   "nbconvert_exporter": "python",
   "pygments_lexer": "ipython3",
   "version": "3.6.5"
  }
 },
 "nbformat": 4,
 "nbformat_minor": 2
}
