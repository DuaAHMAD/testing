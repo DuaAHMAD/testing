{
 "cells": [
  {
   "cell_type": "markdown",
   "metadata": {},
   "source": [
    "# Building Network"
   ]
  },
  {
   "cell_type": "markdown",
   "metadata": {},
   "source": [
    "## Step 2: Building a Model\n",
    "### Instantiating a small covnet for controls vs patients "
   ]
  },
  {
   "cell_type": "code",
   "execution_count": 1,
   "metadata": {},
   "outputs": [
    {
     "name": "stderr",
     "output_type": "stream",
     "text": [
      "Using TensorFlow backend.\n"
     ]
    }
   ],
   "source": [
    "from keras import layers\n",
    "from keras import models\n",
    "model = models.Sequential()\n",
    "model.add(layers.Conv2D(32, (3, 3), activation='relu',\n",
    "input_shape=(90, 80, 3)))\n",
    "model.add(layers.MaxPooling2D((2, 2)))\n",
    "model.add(layers.Conv2D(64, (3, 3), activation='relu'))\n",
    "model.add(layers.MaxPooling2D((2, 2)))\n",
    "model.add(layers.Conv2D(128, (3, 3), activation='relu'))\n",
    "model.add(layers.MaxPooling2D((2, 2)))\n",
    "model.add(layers.Conv2D(128, (3, 3), activation='relu'))\n",
    "model.add(layers.MaxPooling2D((2, 2)))\n",
    "model.add(layers.Flatten())\n",
    "model.add(layers.Dense(512, activation='relu'))\n",
    "model.add(layers.Dense(1, activation='sigmoid'))\n",
    "    "
   ]
  },
  {
   "cell_type": "code",
   "execution_count": 2,
   "metadata": {},
   "outputs": [
    {
     "name": "stdout",
     "output_type": "stream",
     "text": [
      "_________________________________________________________________\n",
      "Layer (type)                 Output Shape              Param #   \n",
      "=================================================================\n",
      "conv2d_1 (Conv2D)            (None, 88, 78, 32)        896       \n",
      "_________________________________________________________________\n",
      "max_pooling2d_1 (MaxPooling2 (None, 44, 39, 32)        0         \n",
      "_________________________________________________________________\n",
      "conv2d_2 (Conv2D)            (None, 42, 37, 64)        18496     \n",
      "_________________________________________________________________\n",
      "max_pooling2d_2 (MaxPooling2 (None, 21, 18, 64)        0         \n",
      "_________________________________________________________________\n",
      "conv2d_3 (Conv2D)            (None, 19, 16, 128)       73856     \n",
      "_________________________________________________________________\n",
      "max_pooling2d_3 (MaxPooling2 (None, 9, 8, 128)         0         \n",
      "_________________________________________________________________\n",
      "conv2d_4 (Conv2D)            (None, 7, 6, 128)         147584    \n",
      "_________________________________________________________________\n",
      "max_pooling2d_4 (MaxPooling2 (None, 3, 3, 128)         0         \n",
      "_________________________________________________________________\n",
      "flatten_1 (Flatten)          (None, 1152)              0         \n",
      "_________________________________________________________________\n",
      "dense_1 (Dense)              (None, 512)               590336    \n",
      "_________________________________________________________________\n",
      "dense_2 (Dense)              (None, 1)                 513       \n",
      "=================================================================\n",
      "Total params: 831,681\n",
      "Trainable params: 831,681\n",
      "Non-trainable params: 0\n",
      "_________________________________________________________________\n"
     ]
    }
   ],
   "source": [
    "model.summary()"
   ]
  },
  {
   "cell_type": "markdown",
   "metadata": {},
   "source": [
    "### Configuring model for training"
   ]
  },
  {
   "cell_type": "code",
   "execution_count": 3,
   "metadata": {},
   "outputs": [],
   "source": [
    "from keras import optimizers\n",
    "model.compile(loss='binary_crossentropy',\n",
    "optimizer=optimizers.RMSprop(lr=1e-4),\n",
    "metrics=['acc'])"
   ]
  },
  {
   "cell_type": "markdown",
   "metadata": {},
   "source": [
    "## Step 3: Data preprocessing "
   ]
  },
  {
   "cell_type": "markdown",
   "metadata": {},
   "source": [
    "### - Rescale the pixel values (between 0 and 255) to the [0, 1] interval (as you know, neural networks prefer to deal with small input values)"
   ]
  },
  {
   "cell_type": "code",
   "execution_count": 4,
   "metadata": {},
   "outputs": [
    {
     "name": "stdout",
     "output_type": "stream",
     "text": [
      "Found 597355 images belonging to 2 classes.\n",
      "Found 102875 images belonging to 2 classes.\n",
      "data batch shape: (100, 90, 80, 3)\n",
      "labels batch shape: (100,)\n"
     ]
    }
   ],
   "source": [
    "from keras.preprocessing.image import ImageDataGenerator\n",
    "\n",
    "train_dir= '/data1/Code/Duaa/Relocated_Data/Train/'\n",
    "validation_dir= '/data1/Code/Duaa/Relocated_Data/Validation/'\n",
    "\n",
    "#Rescales all images by 1/255\n",
    "train_datagen = ImageDataGenerator(rescale=1./255)\n",
    "test_datagen = ImageDataGenerator(rescale=1./255)\n",
    "\n",
    "train_generator = train_datagen.flow_from_directory(\n",
    "         train_dir,                 #Target directory\n",
    "         target_size = (90, 80),  #Resizes all images to 150 × 150\n",
    "         batch_size = 100,\n",
    "         class_mode = 'binary')     #Because you use binary_crossentropy loss, you need binary labels.\n",
    "validation_generator = test_datagen.flow_from_directory(\n",
    "         validation_dir,          #Target directory\n",
    "         target_size =(90, 80),  #Resizes all images to 150 × 150\n",
    "         batch_size = 100,           #Because you use binary_crossentropy loss, you need binary labels.  \n",
    "         class_mode = 'binary')\n",
    "\n",
    "# Break loop at some point to stop from having batches run indefinitely\n",
    "for data_batch, labels_batch in train_generator:\n",
    "    print('data batch shape:', data_batch.shape)\n",
    "    print('labels batch shape:', labels_batch.shape)\n",
    "    break"
   ]
  },
  {
   "cell_type": "code",
   "execution_count": null,
   "metadata": {},
   "outputs": [
    {
     "name": "stdout",
     "output_type": "stream",
     "text": [
      "Epoch 1/30\n",
      "1632/1632 [==============================] - 1770s 1s/step - loss: 0.1366 - acc: 0.9466 - val_loss: 0.8552 - val_acc: 0.7143\n",
      "Epoch 2/30\n",
      "1632/1632 [==============================] - 1775s 1s/step - loss: 0.0112 - acc: 0.9967 - val_loss: 1.0150 - val_acc: 0.7203\n",
      "Epoch 3/30\n",
      "1632/1632 [==============================] - 1772s 1s/step - loss: 0.0057 - acc: 0.9983 - val_loss: 0.8957 - val_acc: 0.7384\n",
      "Epoch 4/30\n",
      "1632/1632 [==============================] - 1774s 1s/step - loss: 0.0033 - acc: 0.9991 - val_loss: 0.9429 - val_acc: 0.7878\n",
      "Epoch 5/30\n",
      "1632/1632 [==============================] - 1776s 1s/step - loss: 0.0025 - acc: 0.9992 - val_loss: 1.2726 - val_acc: 0.7510\n",
      "Epoch 6/30\n",
      "1632/1632 [==============================] - 1776s 1s/step - loss: 0.0018 - acc: 0.9995 - val_loss: 1.3685 - val_acc: 0.7471\n",
      "Epoch 7/30\n",
      "1632/1632 [==============================] - 1775s 1s/step - loss: 0.0014 - acc: 0.9996 - val_loss: 1.8824 - val_acc: 0.6966\n",
      "Epoch 8/30\n",
      "1632/1632 [==============================] - 1776s 1s/step - loss: 0.0010 - acc: 0.9996 - val_loss: 1.9783 - val_acc: 0.6986\n",
      "Epoch 9/30\n",
      "1632/1632 [==============================] - 1774s 1s/step - loss: 7.1531e-04 - acc: 0.9998 - val_loss: 1.6395 - val_acc: 0.7178\n",
      "Epoch 10/30\n",
      "1632/1632 [==============================] - 1771s 1s/step - loss: 7.1443e-04 - acc: 0.9998 - val_loss: 1.2812 - val_acc: 0.8474\n",
      "Epoch 11/30\n",
      "1632/1632 [==============================] - 1772s 1s/step - loss: 4.3964e-04 - acc: 0.9999 - val_loss: 1.1150 - val_acc: 0.7855\n",
      "Epoch 12/30\n",
      "1632/1632 [==============================] - 1770s 1s/step - loss: 3.8154e-04 - acc: 0.9999 - val_loss: 3.5490 - val_acc: 0.6501\n",
      "Epoch 13/30\n",
      "1632/1632 [==============================] - 1771s 1s/step - loss: 1.6156e-04 - acc: 0.9999 - val_loss: 1.6167 - val_acc: 0.7596\n",
      "Epoch 14/30\n",
      "1632/1632 [==============================] - 1772s 1s/step - loss: 3.4041e-04 - acc: 0.9999 - val_loss: 1.5655 - val_acc: 0.7641\n",
      "Epoch 15/30\n",
      "1632/1632 [==============================] - 1774s 1s/step - loss: 3.4649e-04 - acc: 0.9999 - val_loss: 1.6498 - val_acc: 0.7908\n",
      "Epoch 16/30\n",
      "1632/1632 [==============================] - 1773s 1s/step - loss: 1.9839e-04 - acc: 0.9999 - val_loss: 2.1269 - val_acc: 0.7407\n",
      "Epoch 17/30\n",
      " 894/1632 [===============>..............] - ETA: 12:43 - loss: 1.0218e-04 - acc: 1.0000"
     ]
    }
   ],
   "source": [
    "history = model.fit_generator(\n",
    "train_generator,\n",
    "steps_per_epoch=1632,\n",
    "epochs=30,\n",
    "validation_data=validation_generator,\n",
    "validation_steps=340)"
   ]
  },
  {
   "cell_type": "code",
   "execution_count": null,
   "metadata": {},
   "outputs": [],
   "source": [
    "model.save('Controls_and_Patients_small_1.h5')"
   ]
  },
  {
   "cell_type": "code",
   "execution_count": null,
   "metadata": {},
   "outputs": [],
   "source": [
    "import matplotlib.pyplot as plt\n",
    "acc = history.history['acc']\n",
    "val_acc = history.history['val_acc']\n",
    "loss = history.history['loss']\n",
    "val_loss = history.history['val_loss']\n",
    "epochs = range(1, len(acc) + 1)\n",
    "plt.plot(epochs, acc, 'bo', label='Training acc')\n",
    "plt.plot(epochs, val_acc, 'b', label='Validation acc')\n",
    "plt.title('Training and validation accuracy')\n",
    "plt.legend()\n",
    "plt.figure()\n",
    "plt.plot(epochs, loss, 'bo', label='Training loss')\n",
    "plt.plot(epochs, val_loss, 'b', label='Validation loss')\n",
    "plt.title('Training and validation loss')\n",
    "plt.legend()\n",
    "plt.show()"
   ]
  },
  {
   "cell_type": "code",
   "execution_count": null,
   "metadata": {},
   "outputs": [],
   "source": []
  }
 ],
 "metadata": {
  "kernelspec": {
   "display_name": "Python 3",
   "language": "python",
   "name": "python3"
  },
  "language_info": {
   "codemirror_mode": {
    "name": "ipython",
    "version": 3
   },
   "file_extension": ".py",
   "mimetype": "text/x-python",
   "name": "python",
   "nbconvert_exporter": "python",
   "pygments_lexer": "ipython3",
   "version": "3.6.5"
  }
 },
 "nbformat": 4,
 "nbformat_minor": 2
}
